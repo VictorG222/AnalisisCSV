{
 "cells": [
  {
   "cell_type": "code",
   "execution_count": 28,
   "id": "145650a4",
   "metadata": {},
   "outputs": [],
   "source": [
    "import pandas as pd "
   ]
  },
  {
   "cell_type": "code",
   "execution_count": 29,
   "id": "2fd938c1",
   "metadata": {},
   "outputs": [],
   "source": [
    "datos = pd.read_csv('exam.csv')"
   ]
  },
  {
   "cell_type": "code",
   "execution_count": 30,
   "id": "cc82ec9a",
   "metadata": {},
   "outputs": [
    {
     "data": {
      "text/plain": [
       "(1258, 7)"
      ]
     },
     "execution_count": 30,
     "metadata": {},
     "output_type": "execute_result"
    }
   ],
   "source": [
    "datos.shape"
   ]
  },
  {
   "cell_type": "code",
   "execution_count": 31,
   "id": "4fd9e615",
   "metadata": {},
   "outputs": [
    {
     "name": "stdout",
     "output_type": "stream",
     "text": [
      "<class 'pandas.core.frame.DataFrame'>\n",
      "RangeIndex: 1258 entries, 0 to 1257\n",
      "Data columns (total 7 columns):\n",
      " #   Column     Non-Null Count  Dtype \n",
      "---  ------     --------------  ----- \n",
      " 0   date       1258 non-null   object\n",
      " 1   open       1258 non-null   object\n",
      " 2   high       1258 non-null   object\n",
      " 3   low        1258 non-null   object\n",
      " 4   close      1258 non-null   object\n",
      " 5   adj_close  1258 non-null   object\n",
      " 6   volume     1258 non-null   int64 \n",
      "dtypes: int64(1), object(6)\n",
      "memory usage: 68.9+ KB\n"
     ]
    }
   ],
   "source": [
    "datos.info()"
   ]
  },
  {
   "cell_type": "code",
   "execution_count": 32,
   "id": "da355d6d",
   "metadata": {},
   "outputs": [
    {
     "data": {
      "text/html": [
       "<div>\n",
       "<style scoped>\n",
       "    .dataframe tbody tr th:only-of-type {\n",
       "        vertical-align: middle;\n",
       "    }\n",
       "\n",
       "    .dataframe tbody tr th {\n",
       "        vertical-align: top;\n",
       "    }\n",
       "\n",
       "    .dataframe thead th {\n",
       "        text-align: right;\n",
       "    }\n",
       "</style>\n",
       "<table border=\"1\" class=\"dataframe\">\n",
       "  <thead>\n",
       "    <tr style=\"text-align: right;\">\n",
       "      <th></th>\n",
       "      <th>date</th>\n",
       "      <th>open</th>\n",
       "      <th>high</th>\n",
       "      <th>low</th>\n",
       "      <th>close</th>\n",
       "      <th>adj_close</th>\n",
       "      <th>volume</th>\n",
       "    </tr>\n",
       "  </thead>\n",
       "  <tbody>\n",
       "    <tr>\n",
       "      <th>0</th>\n",
       "      <td>2012-01-03</td>\n",
       "      <td>1.258.859.985</td>\n",
       "      <td>1.284.619.995</td>\n",
       "      <td>1.258.859.985</td>\n",
       "      <td>1.277.060.059</td>\n",
       "      <td>1.277.060.059</td>\n",
       "      <td>3943710000</td>\n",
       "    </tr>\n",
       "    <tr>\n",
       "      <th>1</th>\n",
       "      <td>2012-01-04</td>\n",
       "      <td>1.277.030.029</td>\n",
       "      <td>1.278.729.980</td>\n",
       "      <td>1.268.099.976</td>\n",
       "      <td>1.277.300.049</td>\n",
       "      <td>1.277.300.049</td>\n",
       "      <td>3592580000</td>\n",
       "    </tr>\n",
       "    <tr>\n",
       "      <th>2</th>\n",
       "      <td>2012-01-05</td>\n",
       "      <td>1.277.300.049</td>\n",
       "      <td>1.283.050.049</td>\n",
       "      <td>1.265.260.010</td>\n",
       "      <td>1.281.060.059</td>\n",
       "      <td>1.281.060.059</td>\n",
       "      <td>4315950000</td>\n",
       "    </tr>\n",
       "    <tr>\n",
       "      <th>3</th>\n",
       "      <td>2012-01-06</td>\n",
       "      <td>1.280.930.054</td>\n",
       "      <td>1.281.839.966</td>\n",
       "      <td>1.273.339.966</td>\n",
       "      <td>1.277.810.059</td>\n",
       "      <td>1.277.810.059</td>\n",
       "      <td>3656830000</td>\n",
       "    </tr>\n",
       "    <tr>\n",
       "      <th>4</th>\n",
       "      <td>2012-01-09</td>\n",
       "      <td>1.277.829.956</td>\n",
       "      <td>1.281.989.990</td>\n",
       "      <td>1.274.550.049</td>\n",
       "      <td>1.280.699.951</td>\n",
       "      <td>1.280.699.951</td>\n",
       "      <td>3371600000</td>\n",
       "    </tr>\n",
       "    <tr>\n",
       "      <th>5</th>\n",
       "      <td>2012-01-10</td>\n",
       "      <td>1.280.770.020</td>\n",
       "      <td>1.296.459.961</td>\n",
       "      <td>1.280.770.020</td>\n",
       "      <td>1.292.079.956</td>\n",
       "      <td>1.292.079.956</td>\n",
       "      <td>4221960000</td>\n",
       "    </tr>\n",
       "    <tr>\n",
       "      <th>6</th>\n",
       "      <td>2012-01-11</td>\n",
       "      <td>1.292.020.020</td>\n",
       "      <td>1.293.800.049</td>\n",
       "      <td>1.285.410.034</td>\n",
       "      <td>1.292.479.980</td>\n",
       "      <td>1.292.479.980</td>\n",
       "      <td>3968120000</td>\n",
       "    </tr>\n",
       "    <tr>\n",
       "      <th>7</th>\n",
       "      <td>2012-01-12</td>\n",
       "      <td>1.292.479.980</td>\n",
       "      <td>1.296.819.946</td>\n",
       "      <td>1.285.770.020</td>\n",
       "      <td>1.295.500.000</td>\n",
       "      <td>1.295.500.000</td>\n",
       "      <td>4019890000</td>\n",
       "    </tr>\n",
       "    <tr>\n",
       "      <th>8</th>\n",
       "      <td>2012-01-13</td>\n",
       "      <td>1.294.819.946</td>\n",
       "      <td>1.294.819.946</td>\n",
       "      <td>1.277.579.956</td>\n",
       "      <td>1.289.089.966</td>\n",
       "      <td>1.289.089.966</td>\n",
       "      <td>3692370000</td>\n",
       "    </tr>\n",
       "    <tr>\n",
       "      <th>9</th>\n",
       "      <td>2012-01-17</td>\n",
       "      <td>1.290.219.971</td>\n",
       "      <td>1.303.000.000</td>\n",
       "      <td>1.290.219.971</td>\n",
       "      <td>1.293.670.044</td>\n",
       "      <td>1.293.670.044</td>\n",
       "      <td>4010490000</td>\n",
       "    </tr>\n",
       "    <tr>\n",
       "      <th>10</th>\n",
       "      <td>2012-01-18</td>\n",
       "      <td>1.293.650.024</td>\n",
       "      <td>1.308.109.985</td>\n",
       "      <td>1.290.989.990</td>\n",
       "      <td>1.308.040.039</td>\n",
       "      <td>1.308.040.039</td>\n",
       "      <td>4096160000</td>\n",
       "    </tr>\n",
       "    <tr>\n",
       "      <th>11</th>\n",
       "      <td>2012-01-19</td>\n",
       "      <td>1.308.069.946</td>\n",
       "      <td>1.315.489.990</td>\n",
       "      <td>1.308.069.946</td>\n",
       "      <td>1.314.500.000</td>\n",
       "      <td>1.314.500.000</td>\n",
       "      <td>4465890000</td>\n",
       "    </tr>\n",
       "    <tr>\n",
       "      <th>12</th>\n",
       "      <td>2012-01-20</td>\n",
       "      <td>1.314.489.990</td>\n",
       "      <td>1.315.380.005</td>\n",
       "      <td>1.309.170.044</td>\n",
       "      <td>1.315.380.005</td>\n",
       "      <td>1.315.380.005</td>\n",
       "      <td>3912620000</td>\n",
       "    </tr>\n",
       "    <tr>\n",
       "      <th>13</th>\n",
       "      <td>2012-01-23</td>\n",
       "      <td>1.315.290.039</td>\n",
       "      <td>1.322.280.029</td>\n",
       "      <td>1.309.890.015</td>\n",
       "      <td>1.316.000.000</td>\n",
       "      <td>1.316.000.000</td>\n",
       "      <td>3770910000</td>\n",
       "    </tr>\n",
       "    <tr>\n",
       "      <th>14</th>\n",
       "      <td>2012-01-24</td>\n",
       "      <td>1.315.959.961</td>\n",
       "      <td>1.315.959.961</td>\n",
       "      <td>1.306.060.059</td>\n",
       "      <td>1.314.650.024</td>\n",
       "      <td>1.314.650.024</td>\n",
       "      <td>3693560000</td>\n",
       "    </tr>\n",
       "    <tr>\n",
       "      <th>15</th>\n",
       "      <td>2012-01-25</td>\n",
       "      <td>1.314.400.024</td>\n",
       "      <td>1.328.300.049</td>\n",
       "      <td>1.307.650.024</td>\n",
       "      <td>1.326.060.059</td>\n",
       "      <td>1.326.060.059</td>\n",
       "      <td>4410910000</td>\n",
       "    </tr>\n",
       "    <tr>\n",
       "      <th>16</th>\n",
       "      <td>2012-01-26</td>\n",
       "      <td>1.326.280.029</td>\n",
       "      <td>1.333.469.971</td>\n",
       "      <td>1.313.599.976</td>\n",
       "      <td>1.318.430.054</td>\n",
       "      <td>1.318.430.054</td>\n",
       "      <td>4522070000</td>\n",
       "    </tr>\n",
       "    <tr>\n",
       "      <th>17</th>\n",
       "      <td>2012-01-27</td>\n",
       "      <td>1.318.250.000</td>\n",
       "      <td>1.320.060.059</td>\n",
       "      <td>1.311.719.971</td>\n",
       "      <td>1.316.329.956</td>\n",
       "      <td>1.316.329.956</td>\n",
       "      <td>4007380000</td>\n",
       "    </tr>\n",
       "    <tr>\n",
       "      <th>18</th>\n",
       "      <td>2012-01-30</td>\n",
       "      <td>1.316.160.034</td>\n",
       "      <td>1.316.160.034</td>\n",
       "      <td>1.300.489.990</td>\n",
       "      <td>1.313.010.010</td>\n",
       "      <td>1.313.010.010</td>\n",
       "      <td>3659010000</td>\n",
       "    </tr>\n",
       "    <tr>\n",
       "      <th>19</th>\n",
       "      <td>2012-01-31</td>\n",
       "      <td>1.313.530.029</td>\n",
       "      <td>1.321.410.034</td>\n",
       "      <td>1.306.689.941</td>\n",
       "      <td>1.312.410.034</td>\n",
       "      <td>1.312.410.034</td>\n",
       "      <td>4235550000</td>\n",
       "    </tr>\n",
       "  </tbody>\n",
       "</table>\n",
       "</div>"
      ],
      "text/plain": [
       "          date           open           high            low          close  \\\n",
       "0   2012-01-03  1.258.859.985  1.284.619.995  1.258.859.985  1.277.060.059   \n",
       "1   2012-01-04  1.277.030.029  1.278.729.980  1.268.099.976  1.277.300.049   \n",
       "2   2012-01-05  1.277.300.049  1.283.050.049  1.265.260.010  1.281.060.059   \n",
       "3   2012-01-06  1.280.930.054  1.281.839.966  1.273.339.966  1.277.810.059   \n",
       "4   2012-01-09  1.277.829.956  1.281.989.990  1.274.550.049  1.280.699.951   \n",
       "5   2012-01-10  1.280.770.020  1.296.459.961  1.280.770.020  1.292.079.956   \n",
       "6   2012-01-11  1.292.020.020  1.293.800.049  1.285.410.034  1.292.479.980   \n",
       "7   2012-01-12  1.292.479.980  1.296.819.946  1.285.770.020  1.295.500.000   \n",
       "8   2012-01-13  1.294.819.946  1.294.819.946  1.277.579.956  1.289.089.966   \n",
       "9   2012-01-17  1.290.219.971  1.303.000.000  1.290.219.971  1.293.670.044   \n",
       "10  2012-01-18  1.293.650.024  1.308.109.985  1.290.989.990  1.308.040.039   \n",
       "11  2012-01-19  1.308.069.946  1.315.489.990  1.308.069.946  1.314.500.000   \n",
       "12  2012-01-20  1.314.489.990  1.315.380.005  1.309.170.044  1.315.380.005   \n",
       "13  2012-01-23  1.315.290.039  1.322.280.029  1.309.890.015  1.316.000.000   \n",
       "14  2012-01-24  1.315.959.961  1.315.959.961  1.306.060.059  1.314.650.024   \n",
       "15  2012-01-25  1.314.400.024  1.328.300.049  1.307.650.024  1.326.060.059   \n",
       "16  2012-01-26  1.326.280.029  1.333.469.971  1.313.599.976  1.318.430.054   \n",
       "17  2012-01-27  1.318.250.000  1.320.060.059  1.311.719.971  1.316.329.956   \n",
       "18  2012-01-30  1.316.160.034  1.316.160.034  1.300.489.990  1.313.010.010   \n",
       "19  2012-01-31  1.313.530.029  1.321.410.034  1.306.689.941  1.312.410.034   \n",
       "\n",
       "        adj_close      volume  \n",
       "0   1.277.060.059  3943710000  \n",
       "1   1.277.300.049  3592580000  \n",
       "2   1.281.060.059  4315950000  \n",
       "3   1.277.810.059  3656830000  \n",
       "4   1.280.699.951  3371600000  \n",
       "5   1.292.079.956  4221960000  \n",
       "6   1.292.479.980  3968120000  \n",
       "7   1.295.500.000  4019890000  \n",
       "8   1.289.089.966  3692370000  \n",
       "9   1.293.670.044  4010490000  \n",
       "10  1.308.040.039  4096160000  \n",
       "11  1.314.500.000  4465890000  \n",
       "12  1.315.380.005  3912620000  \n",
       "13  1.316.000.000  3770910000  \n",
       "14  1.314.650.024  3693560000  \n",
       "15  1.326.060.059  4410910000  \n",
       "16  1.318.430.054  4522070000  \n",
       "17  1.316.329.956  4007380000  \n",
       "18  1.313.010.010  3659010000  \n",
       "19  1.312.410.034  4235550000  "
      ]
     },
     "execution_count": 32,
     "metadata": {},
     "output_type": "execute_result"
    }
   ],
   "source": [
    "datos.head(20)"
   ]
  },
  {
   "cell_type": "code",
   "execution_count": 33,
   "id": "de298d94",
   "metadata": {},
   "outputs": [
    {
     "data": {
      "text/html": [
       "<div>\n",
       "<style scoped>\n",
       "    .dataframe tbody tr th:only-of-type {\n",
       "        vertical-align: middle;\n",
       "    }\n",
       "\n",
       "    .dataframe tbody tr th {\n",
       "        vertical-align: top;\n",
       "    }\n",
       "\n",
       "    .dataframe thead th {\n",
       "        text-align: right;\n",
       "    }\n",
       "</style>\n",
       "<table border=\"1\" class=\"dataframe\">\n",
       "  <thead>\n",
       "    <tr style=\"text-align: right;\">\n",
       "      <th></th>\n",
       "      <th>volume</th>\n",
       "    </tr>\n",
       "  </thead>\n",
       "  <tbody>\n",
       "    <tr>\n",
       "      <th>count</th>\n",
       "      <td>1.258000e+03</td>\n",
       "    </tr>\n",
       "    <tr>\n",
       "      <th>mean</th>\n",
       "      <td>3.581177e+09</td>\n",
       "    </tr>\n",
       "    <tr>\n",
       "      <th>std</th>\n",
       "      <td>6.794439e+08</td>\n",
       "    </tr>\n",
       "    <tr>\n",
       "      <th>min</th>\n",
       "      <td>1.248960e+09</td>\n",
       "    </tr>\n",
       "    <tr>\n",
       "      <th>25%</th>\n",
       "      <td>3.173118e+09</td>\n",
       "    </tr>\n",
       "    <tr>\n",
       "      <th>50%</th>\n",
       "      <td>3.514050e+09</td>\n",
       "    </tr>\n",
       "    <tr>\n",
       "      <th>75%</th>\n",
       "      <td>3.914480e+09</td>\n",
       "    </tr>\n",
       "    <tr>\n",
       "      <th>max</th>\n",
       "      <td>7.597450e+09</td>\n",
       "    </tr>\n",
       "  </tbody>\n",
       "</table>\n",
       "</div>"
      ],
      "text/plain": [
       "             volume\n",
       "count  1.258000e+03\n",
       "mean   3.581177e+09\n",
       "std    6.794439e+08\n",
       "min    1.248960e+09\n",
       "25%    3.173118e+09\n",
       "50%    3.514050e+09\n",
       "75%    3.914480e+09\n",
       "max    7.597450e+09"
      ]
     },
     "execution_count": 33,
     "metadata": {},
     "output_type": "execute_result"
    }
   ],
   "source": [
    "datos.describe()"
   ]
  },
  {
   "cell_type": "code",
   "execution_count": 34,
   "id": "4da40574",
   "metadata": {},
   "outputs": [
    {
     "data": {
      "text/plain": [
       "'1.258.859.985'"
      ]
     },
     "execution_count": 34,
     "metadata": {},
     "output_type": "execute_result"
    }
   ],
   "source": [
    "datos['open'].min()"
   ]
  },
  {
   "cell_type": "code",
   "execution_count": 35,
   "id": "5d7c7ad4",
   "metadata": {},
   "outputs": [
    {
     "data": {
      "text/plain": [
       "'1.278.729.980'"
      ]
     },
     "execution_count": 35,
     "metadata": {},
     "output_type": "execute_result"
    }
   ],
   "source": [
    "datos['high'].min()"
   ]
  },
  {
   "cell_type": "code",
   "execution_count": 36,
   "id": "bcdee24b",
   "metadata": {},
   "outputs": [
    {
     "data": {
      "text/plain": [
       "'1.258.859.985'"
      ]
     },
     "execution_count": 36,
     "metadata": {},
     "output_type": "execute_result"
    }
   ],
   "source": [
    "datos['low'].min()"
   ]
  },
  {
   "cell_type": "code",
   "execution_count": 37,
   "id": "77d8733c",
   "metadata": {},
   "outputs": [
    {
     "data": {
      "text/plain": [
       "'1.277.060.059'"
      ]
     },
     "execution_count": 37,
     "metadata": {},
     "output_type": "execute_result"
    }
   ],
   "source": [
    "datos['close'].min()"
   ]
  },
  {
   "cell_type": "code",
   "execution_count": 38,
   "id": "7972a113",
   "metadata": {},
   "outputs": [
    {
     "data": {
      "text/plain": [
       "'2.270.540.039'"
      ]
     },
     "execution_count": 38,
     "metadata": {},
     "output_type": "execute_result"
    }
   ],
   "source": [
    "datos['open'].max()"
   ]
  },
  {
   "cell_type": "code",
   "execution_count": 39,
   "id": "d75b7d85",
   "metadata": {},
   "outputs": [
    {
     "data": {
      "text/plain": [
       "'2.277.530.029'"
      ]
     },
     "execution_count": 39,
     "metadata": {},
     "output_type": "execute_result"
    }
   ],
   "source": [
    "datos['high'].max()"
   ]
  },
  {
   "cell_type": "code",
   "execution_count": 40,
   "id": "ebe54233",
   "metadata": {},
   "outputs": [
    {
     "data": {
      "text/plain": [
       "'2.266.149.902'"
      ]
     },
     "execution_count": 40,
     "metadata": {},
     "output_type": "execute_result"
    }
   ],
   "source": [
    "datos['low'].max()"
   ]
  },
  {
   "cell_type": "code",
   "execution_count": 41,
   "id": "651d7bc0",
   "metadata": {},
   "outputs": [
    {
     "data": {
      "text/plain": [
       "'2.271.719.971'"
      ]
     },
     "execution_count": 41,
     "metadata": {},
     "output_type": "execute_result"
    }
   ],
   "source": [
    "datos['close'].max()"
   ]
  },
  {
   "cell_type": "code",
   "execution_count": null,
   "id": "61faff18",
   "metadata": {},
   "outputs": [],
   "source": []
  }
 ],
 "metadata": {
  "kernelspec": {
   "display_name": "Python 3 (ipykernel)",
   "language": "python",
   "name": "python3"
  },
  "language_info": {
   "codemirror_mode": {
    "name": "ipython",
    "version": 3
   },
   "file_extension": ".py",
   "mimetype": "text/x-python",
   "name": "python",
   "nbconvert_exporter": "python",
   "pygments_lexer": "ipython3",
   "version": "3.9.12"
  }
 },
 "nbformat": 4,
 "nbformat_minor": 5
}
